{
  "nbformat": 4,
  "nbformat_minor": 0,
  "metadata": {
    "colab": {
      "name": "DPhi Assignment 1.ipynb",
      "provenance": [],
      "authorship_tag": "ABX9TyNT6ysVg05vEjmpyC2YWQPs",
      "include_colab_link": true
    },
    "kernelspec": {
      "name": "python3",
      "display_name": "Python 3"
    }
  },
  "cells": [
    {
      "cell_type": "markdown",
      "metadata": {
        "id": "view-in-github",
        "colab_type": "text"
      },
      "source": [
        "<a href=\"https://colab.research.google.com/github/abitaaugustine/DPhi-Deep-Learning-Bootcamp/blob/master/DPhi_Assignment_1.ipynb\" target=\"_parent\"><img src=\"https://colab.research.google.com/assets/colab-badge.svg\" alt=\"Open In Colab\"/></a>"
      ]
    },
    {
      "cell_type": "markdown",
      "metadata": {
        "id": "BBMxE8Zmcnc8",
        "colab_type": "text"
      },
      "source": [
        "#Context\n",
        "Banknotes are one of the most important assets of a country. Some miscreants introduce fake notes which bear a resemblance to original note to create discrepancies of the money in the financial market. It is difficult for humans to tell true and fake banknotes apart especially because they have a lot of similar features.\n",
        "\n",
        "#Motivation \n",
        "Despite a decrease in the use of currency due to the recent growth in the use of electronic transactions, cash transactions remain very important in the global market. Banknotes are used to carry out financial activities. To continue with smooth cash transactions, entry of forged banknotes in circulation should be preserved. There has been a drastic increase in the rate of fake notes in the market. Fake money is an imitation of the genuine notes and is created illegally for various motives. These fake notes are created in all denominations which brings the financial market of the country to a low level. The various advancements in the field of scanners and copy machines have led the miscreants to create copies of banknotes. It is difficult for human-eye to recognize a fake note because they are created with great accuracy to look alike a genuine note. Security aspects of banknotes have to be considered and security features are to be introduced to mitigate fake currency. Hence, there is a dire need in banks and ATM machines to implement a system that classifies a note as genuine or fake.\n",
        "\n",
        "# About the Data\n",
        "Data were extracted from images that were taken for the evaluation of an authentication procedure for banknotes. Data were extracted from images that were taken from genuine and forged banknote-like specimens. For digitization, an industrial camera usually used for print inspection was used. The final images have 400x 400 pixels. Due to the object lens and distance to the investigated object grey-scale pictures with a resolution of about 660 dpi were gained. Wavelet Transform tool was used to extract features from images.\n",
        "\n",
        "### Train Dataset \n",
        "\n",
        "To load the training data in your jupyter notebook, use the below command:\n",
        "\n",
        "import pandas as pd\n",
        "\n",
        "bank_note_data = pd.read_csv(\"https://raw.githubusercontent.com/dphi-official/Datasets/master/bank_note_data/training_set_label.csv\" )\n",
        "\n",
        "#### Data Description\n",
        "\n",
        "VWTI: Variance of Wavelet Transformed Image\n",
        "SWTI: Skewness of Wavelet Transformed Image\n",
        "CWTI: Curtosis of Wavelet Transformed Image\n",
        "EI: Entropy of Image\n",
        "Class: Class (1: genuine, 0: forged)\n",
        "### Test Dataset \n",
        "\n",
        "Load the test data (name it as test_data). You can load the data using the below command.\n",
        "\n",
        "test_data = pd.read_csv('https://raw.githubusercontent.com/dphi-official/Datasets/master/bank_note_data/testing_set_label.csv')\n",
        "\n",
        "Here the target column is deliberately not there as you need to predict it.\n",
        "\n",
        "##Acknowledgement\n",
        "The dataset is downloaded from the UCI Machine Learning Repository.\n",
        "\n"
      ]
    },
    {
      "cell_type": "code",
      "metadata": {
        "id": "1j4KyguFMFKW",
        "colab_type": "code",
        "colab": {}
      },
      "source": [
        "import numpy as np\n",
        "import pandas as pd\n",
        "import matplotlib.pyplot as plt\n",
        "%matplotlib inline\n",
        "import seaborn as sns\n",
        "from sklearn import datasets, linear_model\n",
        "from sklearn.metrics import roc_curve, auc\n",
        "\n",
        "import statsmodels.api as sm\n",
        "from statsmodels.formula.api import ols"
      ],
      "execution_count": 3,
      "outputs": []
    },
    {
      "cell_type": "markdown",
      "metadata": {
        "id": "_ErXa5hycnZr",
        "colab_type": "text"
      },
      "source": [
        ""
      ]
    },
    {
      "cell_type": "markdown",
      "metadata": {
        "id": "zGey8xzQcR47",
        "colab_type": "text"
      },
      "source": [
        "### Function to create Confusion Matrix"
      ]
    },
    {
      "cell_type": "code",
      "metadata": {
        "id": "OUJq1RI2RuPY",
        "colab_type": "code",
        "colab": {}
      },
      "source": [
        "def confusionMatrix(predicted, actual, threshold):\n",
        "  if len(predicted) != len(actual):\n",
        "    return -1\n",
        "  tp = 0.0\n",
        "  fp = 0.0\n",
        "  tn = 0.0\n",
        "  fn = 0.0\n",
        "  for i in range(len(actual)):\n",
        "    if actual[i] > 0.5: #labels that are 1.0 (denote authentic bank notes)\n",
        "      if predicted[i] > threshold:\n",
        "        tp += 1.0 \n",
        "      else:\n",
        "        fn += 1.0 \n",
        "    else: #labels that are 0.0 (denote inauthentic bank notes)\n",
        "      if predicted[i] < threshold:\n",
        "        tn += 1.0\n",
        "      else:\n",
        "        fp += 1.0 \n",
        "  rtn = [tp, fn, fp, tn]\n",
        "  return rtn"
      ],
      "execution_count": 50,
      "outputs": []
    },
    {
      "cell_type": "markdown",
      "metadata": {
        "id": "tVZX6QrUbIgj",
        "colab_type": "text"
      },
      "source": [
        "### Reading the data into values, Ordinary Least Square Regression (OLS) and Removing Class label from the data"
      ]
    },
    {
      "cell_type": "code",
      "metadata": {
        "id": "5DHAkGzxMRw0",
        "colab_type": "code",
        "colab": {}
      },
      "source": [
        "train_set = pd.read_csv(\"https://raw.githubusercontent.com/dphi-official/Datasets/master/bank_note_data/training_set_label.csv\" )\n",
        "test_set = pd.read_csv('https://raw.githubusercontent.com/dphi-official/Datasets/master/bank_note_data/testing_set_label.csv')\n",
        "banknote_model = ols(\"Class ~ VWTI + SWTI + CWTI + EI\", data=train_set).fit()\n",
        "banknote_model_summary = banknote_model.summary()\n",
        "train_set_labels = train_set.pop('Class')\n",
        "test_set_labels = test_set"
      ],
      "execution_count": 30,
      "outputs": []
    },
    {
      "cell_type": "code",
      "metadata": {
        "id": "yM8nYqEZPk1P",
        "colab_type": "code",
        "colab": {}
      },
      "source": [
        "train = np.array(train_set)\n",
        "test = np.array(test_set)\n",
        "train_labels = np.array(train_set_labels)\n",
        "test_labels = np.array(test_set_labels)"
      ],
      "execution_count": 31,
      "outputs": []
    },
    {
      "cell_type": "code",
      "metadata": {
        "id": "H5u5O5xfQfrh",
        "colab_type": "code",
        "colab": {
          "base_uri": "https://localhost:8080/",
          "height": 34
        },
        "outputId": "0d63fbb6-5115-4e09-d353-06980ae53504"
      },
      "source": [
        "train.shape"
      ],
      "execution_count": 38,
      "outputs": [
        {
          "output_type": "execute_result",
          "data": {
            "text/plain": [
              "(1096, 4)"
            ]
          },
          "metadata": {
            "tags": []
          },
          "execution_count": 38
        }
      ]
    },
    {
      "cell_type": "code",
      "metadata": {
        "id": "v_uu3f1tQ3Zz",
        "colab_type": "code",
        "colab": {
          "base_uri": "https://localhost:8080/",
          "height": 34
        },
        "outputId": "589a078e-0b7d-4692-b961-7cbf8d940a58"
      },
      "source": [
        "test.shape"
      ],
      "execution_count": 39,
      "outputs": [
        {
          "output_type": "execute_result",
          "data": {
            "text/plain": [
              "(275, 4)"
            ]
          },
          "metadata": {
            "tags": []
          },
          "execution_count": 39
        }
      ]
    },
    {
      "cell_type": "code",
      "metadata": {
        "id": "7LrnT2wMQ3cK",
        "colab_type": "code",
        "colab": {
          "base_uri": "https://localhost:8080/",
          "height": 34
        },
        "outputId": "c74f3517-3006-44ee-daf1-5b7f87d7ecb8"
      },
      "source": [
        "train_labels.shape"
      ],
      "execution_count": 40,
      "outputs": [
        {
          "output_type": "execute_result",
          "data": {
            "text/plain": [
              "(1096,)"
            ]
          },
          "metadata": {
            "tags": []
          },
          "execution_count": 40
        }
      ]
    },
    {
      "cell_type": "code",
      "metadata": {
        "id": "iyDM6yW1Q3fs",
        "colab_type": "code",
        "colab": {
          "base_uri": "https://localhost:8080/",
          "height": 34
        },
        "outputId": "691944ec-d9fd-4fe7-eafc-861363b13d7c"
      },
      "source": [
        "test_labels.shape"
      ],
      "execution_count": 41,
      "outputs": [
        {
          "output_type": "execute_result",
          "data": {
            "text/plain": [
              "(275, 4)"
            ]
          },
          "metadata": {
            "tags": []
          },
          "execution_count": 41
        }
      ]
    },
    {
      "cell_type": "markdown",
      "metadata": {
        "id": "zO02rrGQbhwS",
        "colab_type": "text"
      },
      "source": [
        "### Training the data"
      ]
    },
    {
      "cell_type": "code",
      "metadata": {
        "id": "wHYHZt5NRLGu",
        "colab_type": "code",
        "colab": {
          "base_uri": "https://localhost:8080/",
          "height": 34
        },
        "outputId": "b1efee0c-dd68-4544-b3c2-2c4913095f1b"
      },
      "source": [
        "model = linear_model.LinearRegression()\n",
        "model.fit(train,train_labels)"
      ],
      "execution_count": 42,
      "outputs": [
        {
          "output_type": "execute_result",
          "data": {
            "text/plain": [
              "LinearRegression(copy_X=True, fit_intercept=True, n_jobs=None, normalize=False)"
            ]
          },
          "metadata": {
            "tags": []
          },
          "execution_count": 42
        }
      ]
    },
    {
      "cell_type": "code",
      "metadata": {
        "id": "3afWObvtRPlw",
        "colab_type": "code",
        "colab": {}
      },
      "source": [
        "trainPredictions = model.predict(train)"
      ],
      "execution_count": 43,
      "outputs": []
    },
    {
      "cell_type": "code",
      "metadata": {
        "id": "6BnxRRjTRUsR",
        "colab_type": "code",
        "colab": {
          "base_uri": "https://localhost:8080/",
          "height": 221
        },
        "outputId": "36a5ba73-12d7-4b3b-a5ce-b5378666f852"
      },
      "source": [
        "df1 = pd.DataFrame({'Actual': train_labels, 'Predicted': trainPredictions.flatten()})\n",
        "df1.Predicted"
      ],
      "execution_count": 59,
      "outputs": [
        {
          "output_type": "execute_result",
          "data": {
            "text/plain": [
              "0       0.463187\n",
              "1      -0.023899\n",
              "2       1.056323\n",
              "3       0.672195\n",
              "4       0.173525\n",
              "          ...   \n",
              "1091    0.143500\n",
              "1092    0.065618\n",
              "1093   -0.103644\n",
              "1094   -0.090891\n",
              "1095    0.394616\n",
              "Name: Predicted, Length: 1096, dtype: float64"
            ]
          },
          "metadata": {
            "tags": []
          },
          "execution_count": 59
        }
      ]
    },
    {
      "cell_type": "code",
      "metadata": {
        "id": "knkGto33RYEL",
        "colab_type": "code",
        "colab": {
          "base_uri": "https://localhost:8080/",
          "height": 187
        },
        "outputId": "3e7aa26d-79c6-4cd8-83e3-f0b94c0e1e05"
      },
      "source": [
        "t = np.linspace(0,1,50)\n",
        "t"
      ],
      "execution_count": 46,
      "outputs": [
        {
          "output_type": "execute_result",
          "data": {
            "text/plain": [
              "array([0.        , 0.02040816, 0.04081633, 0.06122449, 0.08163265,\n",
              "       0.10204082, 0.12244898, 0.14285714, 0.16326531, 0.18367347,\n",
              "       0.20408163, 0.2244898 , 0.24489796, 0.26530612, 0.28571429,\n",
              "       0.30612245, 0.32653061, 0.34693878, 0.36734694, 0.3877551 ,\n",
              "       0.40816327, 0.42857143, 0.44897959, 0.46938776, 0.48979592,\n",
              "       0.51020408, 0.53061224, 0.55102041, 0.57142857, 0.59183673,\n",
              "       0.6122449 , 0.63265306, 0.65306122, 0.67346939, 0.69387755,\n",
              "       0.71428571, 0.73469388, 0.75510204, 0.7755102 , 0.79591837,\n",
              "       0.81632653, 0.83673469, 0.85714286, 0.87755102, 0.89795918,\n",
              "       0.91836735, 0.93877551, 0.95918367, 0.97959184, 1.        ])"
            ]
          },
          "metadata": {
            "tags": []
          },
          "execution_count": 46
        }
      ]
    },
    {
      "cell_type": "markdown",
      "metadata": {
        "id": "U108VFSKbyRE",
        "colab_type": "text"
      },
      "source": [
        "### Creaing the confusion matrix for the training data"
      ]
    },
    {
      "cell_type": "code",
      "metadata": {
        "id": "lgL2bAAdRrLz",
        "colab_type": "code",
        "colab": {
          "base_uri": "https://localhost:8080/",
          "height": 1000
        },
        "outputId": "31c3458e-daee-4fe3-fef5-51d2f9e6ca0f"
      },
      "source": [
        "for threshold in t:  \n",
        "  confusionMatTrain = confusionMatrix(trainPredictions, train_labels, threshold)\n",
        "  tp = confusionMatTrain[0]\n",
        "  fn = confusionMatTrain[1]\n",
        "  fp = confusionMatTrain[2]\n",
        "  tn = confusionMatTrain[3]\n",
        "  print(\"For Threshold value = \"+str(threshold))\n",
        "  print(\"tp = \" + str(tp) + \"\\tfn = \" + str(fn) + \"\\n\" + \"fp = \" + str(fp) + \"\\ttn = \" + str(tn))\n",
        "  print(\"Error Rate = \"+str((fp+fn)/(tp+fn+fp+tn)) + '\\n')"
      ],
      "execution_count": 51,
      "outputs": [
        {
          "output_type": "stream",
          "text": [
            "For Threshold value = 0.0\n",
            "tp = 488.0\tfn = 0.0\n",
            "fp = 364.0\ttn = 244.0\n",
            "Error Rate = 0.33211678832116787\n",
            "\n",
            "For Threshold value = 0.02040816326530612\n",
            "tp = 488.0\tfn = 0.0\n",
            "fp = 327.0\ttn = 281.0\n",
            "Error Rate = 0.2983576642335766\n",
            "\n",
            "For Threshold value = 0.04081632653061224\n",
            "tp = 488.0\tfn = 0.0\n",
            "fp = 283.0\ttn = 325.0\n",
            "Error Rate = 0.25821167883211676\n",
            "\n",
            "For Threshold value = 0.061224489795918366\n",
            "tp = 488.0\tfn = 0.0\n",
            "fp = 251.0\ttn = 357.0\n",
            "Error Rate = 0.229014598540146\n",
            "\n",
            "For Threshold value = 0.08163265306122448\n",
            "tp = 488.0\tfn = 0.0\n",
            "fp = 224.0\ttn = 384.0\n",
            "Error Rate = 0.20437956204379562\n",
            "\n",
            "For Threshold value = 0.1020408163265306\n",
            "tp = 488.0\tfn = 0.0\n",
            "fp = 202.0\ttn = 406.0\n",
            "Error Rate = 0.1843065693430657\n",
            "\n",
            "For Threshold value = 0.12244897959183673\n",
            "tp = 488.0\tfn = 0.0\n",
            "fp = 183.0\ttn = 425.0\n",
            "Error Rate = 0.16697080291970803\n",
            "\n",
            "For Threshold value = 0.14285714285714285\n",
            "tp = 488.0\tfn = 0.0\n",
            "fp = 156.0\ttn = 452.0\n",
            "Error Rate = 0.14233576642335766\n",
            "\n",
            "For Threshold value = 0.16326530612244897\n",
            "tp = 488.0\tfn = 0.0\n",
            "fp = 131.0\ttn = 477.0\n",
            "Error Rate = 0.11952554744525548\n",
            "\n",
            "For Threshold value = 0.18367346938775508\n",
            "tp = 488.0\tfn = 0.0\n",
            "fp = 116.0\ttn = 492.0\n",
            "Error Rate = 0.10583941605839416\n",
            "\n",
            "For Threshold value = 0.2040816326530612\n",
            "tp = 488.0\tfn = 0.0\n",
            "fp = 106.0\ttn = 502.0\n",
            "Error Rate = 0.09671532846715329\n",
            "\n",
            "For Threshold value = 0.22448979591836732\n",
            "tp = 488.0\tfn = 0.0\n",
            "fp = 94.0\ttn = 514.0\n",
            "Error Rate = 0.08576642335766424\n",
            "\n",
            "For Threshold value = 0.24489795918367346\n",
            "tp = 488.0\tfn = 0.0\n",
            "fp = 84.0\ttn = 524.0\n",
            "Error Rate = 0.07664233576642336\n",
            "\n",
            "For Threshold value = 0.26530612244897955\n",
            "tp = 488.0\tfn = 0.0\n",
            "fp = 75.0\ttn = 533.0\n",
            "Error Rate = 0.06843065693430657\n",
            "\n",
            "For Threshold value = 0.2857142857142857\n",
            "tp = 488.0\tfn = 0.0\n",
            "fp = 69.0\ttn = 539.0\n",
            "Error Rate = 0.06295620437956205\n",
            "\n",
            "For Threshold value = 0.3061224489795918\n",
            "tp = 488.0\tfn = 0.0\n",
            "fp = 59.0\ttn = 549.0\n",
            "Error Rate = 0.053832116788321165\n",
            "\n",
            "For Threshold value = 0.32653061224489793\n",
            "tp = 488.0\tfn = 0.0\n",
            "fp = 55.0\ttn = 553.0\n",
            "Error Rate = 0.05018248175182482\n",
            "\n",
            "For Threshold value = 0.3469387755102041\n",
            "tp = 488.0\tfn = 0.0\n",
            "fp = 49.0\ttn = 559.0\n",
            "Error Rate = 0.04470802919708029\n",
            "\n",
            "For Threshold value = 0.36734693877551017\n",
            "tp = 488.0\tfn = 0.0\n",
            "fp = 44.0\ttn = 564.0\n",
            "Error Rate = 0.040145985401459854\n",
            "\n",
            "For Threshold value = 0.3877551020408163\n",
            "tp = 488.0\tfn = 0.0\n",
            "fp = 42.0\ttn = 566.0\n",
            "Error Rate = 0.03832116788321168\n",
            "\n",
            "For Threshold value = 0.4081632653061224\n",
            "tp = 488.0\tfn = 0.0\n",
            "fp = 40.0\ttn = 568.0\n",
            "Error Rate = 0.0364963503649635\n",
            "\n",
            "For Threshold value = 0.42857142857142855\n",
            "tp = 488.0\tfn = 0.0\n",
            "fp = 36.0\ttn = 572.0\n",
            "Error Rate = 0.032846715328467155\n",
            "\n",
            "For Threshold value = 0.44897959183673464\n",
            "tp = 488.0\tfn = 0.0\n",
            "fp = 34.0\ttn = 574.0\n",
            "Error Rate = 0.03102189781021898\n",
            "\n",
            "For Threshold value = 0.4693877551020408\n",
            "tp = 488.0\tfn = 0.0\n",
            "fp = 32.0\ttn = 576.0\n",
            "Error Rate = 0.029197080291970802\n",
            "\n",
            "For Threshold value = 0.4897959183673469\n",
            "tp = 488.0\tfn = 0.0\n",
            "fp = 27.0\ttn = 581.0\n",
            "Error Rate = 0.024635036496350366\n",
            "\n",
            "For Threshold value = 0.5102040816326531\n",
            "tp = 488.0\tfn = 0.0\n",
            "fp = 23.0\ttn = 585.0\n",
            "Error Rate = 0.020985401459854013\n",
            "\n",
            "For Threshold value = 0.5306122448979591\n",
            "tp = 488.0\tfn = 0.0\n",
            "fp = 18.0\ttn = 590.0\n",
            "Error Rate = 0.016423357664233577\n",
            "\n",
            "For Threshold value = 0.5510204081632653\n",
            "tp = 487.0\tfn = 1.0\n",
            "fp = 18.0\ttn = 590.0\n",
            "Error Rate = 0.017335766423357664\n",
            "\n",
            "For Threshold value = 0.5714285714285714\n",
            "tp = 487.0\tfn = 1.0\n",
            "fp = 16.0\ttn = 592.0\n",
            "Error Rate = 0.01551094890510949\n",
            "\n",
            "For Threshold value = 0.5918367346938775\n",
            "tp = 487.0\tfn = 1.0\n",
            "fp = 16.0\ttn = 592.0\n",
            "Error Rate = 0.01551094890510949\n",
            "\n",
            "For Threshold value = 0.6122448979591836\n",
            "tp = 485.0\tfn = 3.0\n",
            "fp = 10.0\ttn = 598.0\n",
            "Error Rate = 0.011861313868613138\n",
            "\n",
            "For Threshold value = 0.6326530612244897\n",
            "tp = 483.0\tfn = 5.0\n",
            "fp = 9.0\ttn = 599.0\n",
            "Error Rate = 0.012773722627737226\n",
            "\n",
            "For Threshold value = 0.6530612244897959\n",
            "tp = 479.0\tfn = 9.0\n",
            "fp = 4.0\ttn = 604.0\n",
            "Error Rate = 0.011861313868613138\n",
            "\n",
            "For Threshold value = 0.673469387755102\n",
            "tp = 475.0\tfn = 13.0\n",
            "fp = 0.0\ttn = 608.0\n",
            "Error Rate = 0.011861313868613138\n",
            "\n",
            "For Threshold value = 0.6938775510204082\n",
            "tp = 470.0\tfn = 18.0\n",
            "fp = 0.0\ttn = 608.0\n",
            "Error Rate = 0.016423357664233577\n",
            "\n",
            "For Threshold value = 0.7142857142857142\n",
            "tp = 463.0\tfn = 25.0\n",
            "fp = 0.0\ttn = 608.0\n",
            "Error Rate = 0.02281021897810219\n",
            "\n",
            "For Threshold value = 0.7346938775510203\n",
            "tp = 451.0\tfn = 37.0\n",
            "fp = 0.0\ttn = 608.0\n",
            "Error Rate = 0.03375912408759124\n",
            "\n",
            "For Threshold value = 0.7551020408163265\n",
            "tp = 443.0\tfn = 45.0\n",
            "fp = 0.0\ttn = 608.0\n",
            "Error Rate = 0.04105839416058394\n",
            "\n",
            "For Threshold value = 0.7755102040816326\n",
            "tp = 426.0\tfn = 62.0\n",
            "fp = 0.0\ttn = 608.0\n",
            "Error Rate = 0.05656934306569343\n",
            "\n",
            "For Threshold value = 0.7959183673469387\n",
            "tp = 408.0\tfn = 80.0\n",
            "fp = 0.0\ttn = 608.0\n",
            "Error Rate = 0.072992700729927\n",
            "\n",
            "For Threshold value = 0.8163265306122448\n",
            "tp = 393.0\tfn = 95.0\n",
            "fp = 0.0\ttn = 608.0\n",
            "Error Rate = 0.08667883211678833\n",
            "\n",
            "For Threshold value = 0.836734693877551\n",
            "tp = 371.0\tfn = 117.0\n",
            "fp = 0.0\ttn = 608.0\n",
            "Error Rate = 0.10675182481751824\n",
            "\n",
            "For Threshold value = 0.8571428571428571\n",
            "tp = 346.0\tfn = 142.0\n",
            "fp = 0.0\ttn = 608.0\n",
            "Error Rate = 0.12956204379562045\n",
            "\n",
            "For Threshold value = 0.8775510204081632\n",
            "tp = 320.0\tfn = 168.0\n",
            "fp = 0.0\ttn = 608.0\n",
            "Error Rate = 0.15328467153284672\n",
            "\n",
            "For Threshold value = 0.8979591836734693\n",
            "tp = 298.0\tfn = 190.0\n",
            "fp = 0.0\ttn = 608.0\n",
            "Error Rate = 0.17335766423357665\n",
            "\n",
            "For Threshold value = 0.9183673469387754\n",
            "tp = 261.0\tfn = 227.0\n",
            "fp = 0.0\ttn = 608.0\n",
            "Error Rate = 0.2071167883211679\n",
            "\n",
            "For Threshold value = 0.9387755102040816\n",
            "tp = 236.0\tfn = 252.0\n",
            "fp = 0.0\ttn = 608.0\n",
            "Error Rate = 0.22992700729927007\n",
            "\n",
            "For Threshold value = 0.9591836734693877\n",
            "tp = 210.0\tfn = 278.0\n",
            "fp = 0.0\ttn = 608.0\n",
            "Error Rate = 0.25364963503649635\n",
            "\n",
            "For Threshold value = 0.9795918367346939\n",
            "tp = 180.0\tfn = 308.0\n",
            "fp = 0.0\ttn = 608.0\n",
            "Error Rate = 0.28102189781021897\n",
            "\n",
            "For Threshold value = 1.0\n",
            "tp = 146.0\tfn = 342.0\n",
            "fp = 0.0\ttn = 608.0\n",
            "Error Rate = 0.31204379562043794\n",
            "\n"
          ],
          "name": "stdout"
        }
      ]
    },
    {
      "cell_type": "markdown",
      "metadata": {
        "id": "gE71TTVAb66f",
        "colab_type": "text"
      },
      "source": [
        "### Testing the model"
      ]
    },
    {
      "cell_type": "code",
      "metadata": {
        "id": "t0UlKcFASI0k",
        "colab_type": "code",
        "colab": {}
      },
      "source": [
        "\n",
        "testPredictions = model.predict(test)"
      ],
      "execution_count": 52,
      "outputs": []
    },
    {
      "cell_type": "code",
      "metadata": {
        "id": "iTs27w6ASMqi",
        "colab_type": "code",
        "colab": {
          "base_uri": "https://localhost:8080/",
          "height": 419
        },
        "outputId": "e3e2faff-eb63-4b1b-9890-e75d2e64c30c"
      },
      "source": [
        "df2 = pd.DataFrame({'Predicted': testPredictions.flatten()})\n",
        "df2"
      ],
      "execution_count": 54,
      "outputs": [
        {
          "output_type": "execute_result",
          "data": {
            "text/html": [
              "<div>\n",
              "<style scoped>\n",
              "    .dataframe tbody tr th:only-of-type {\n",
              "        vertical-align: middle;\n",
              "    }\n",
              "\n",
              "    .dataframe tbody tr th {\n",
              "        vertical-align: top;\n",
              "    }\n",
              "\n",
              "    .dataframe thead th {\n",
              "        text-align: right;\n",
              "    }\n",
              "</style>\n",
              "<table border=\"1\" class=\"dataframe\">\n",
              "  <thead>\n",
              "    <tr style=\"text-align: right;\">\n",
              "      <th></th>\n",
              "      <th>Predicted</th>\n",
              "    </tr>\n",
              "  </thead>\n",
              "  <tbody>\n",
              "    <tr>\n",
              "      <th>0</th>\n",
              "      <td>0.866183</td>\n",
              "    </tr>\n",
              "    <tr>\n",
              "      <th>1</th>\n",
              "      <td>0.742020</td>\n",
              "    </tr>\n",
              "    <tr>\n",
              "      <th>2</th>\n",
              "      <td>-0.341532</td>\n",
              "    </tr>\n",
              "    <tr>\n",
              "      <th>3</th>\n",
              "      <td>-0.000983</td>\n",
              "    </tr>\n",
              "    <tr>\n",
              "      <th>4</th>\n",
              "      <td>-0.059089</td>\n",
              "    </tr>\n",
              "    <tr>\n",
              "      <th>...</th>\n",
              "      <td>...</td>\n",
              "    </tr>\n",
              "    <tr>\n",
              "      <th>270</th>\n",
              "      <td>0.958988</td>\n",
              "    </tr>\n",
              "    <tr>\n",
              "      <th>271</th>\n",
              "      <td>0.158454</td>\n",
              "    </tr>\n",
              "    <tr>\n",
              "      <th>272</th>\n",
              "      <td>0.221635</td>\n",
              "    </tr>\n",
              "    <tr>\n",
              "      <th>273</th>\n",
              "      <td>-0.134136</td>\n",
              "    </tr>\n",
              "    <tr>\n",
              "      <th>274</th>\n",
              "      <td>0.230337</td>\n",
              "    </tr>\n",
              "  </tbody>\n",
              "</table>\n",
              "<p>275 rows × 1 columns</p>\n",
              "</div>"
            ],
            "text/plain": [
              "     Predicted\n",
              "0     0.866183\n",
              "1     0.742020\n",
              "2    -0.341532\n",
              "3    -0.000983\n",
              "4    -0.059089\n",
              "..         ...\n",
              "270   0.958988\n",
              "271   0.158454\n",
              "272   0.221635\n",
              "273  -0.134136\n",
              "274   0.230337\n",
              "\n",
              "[275 rows x 1 columns]"
            ]
          },
          "metadata": {
            "tags": []
          },
          "execution_count": 54
        }
      ]
    },
    {
      "cell_type": "markdown",
      "metadata": {
        "id": "ijaKPGu3b--W",
        "colab_type": "text"
      },
      "source": [
        "### Sorting the predicted value to either authenticated or fraudulent"
      ]
    },
    {
      "cell_type": "code",
      "metadata": {
        "id": "k55av78lSldT",
        "colab_type": "code",
        "colab": {}
      },
      "source": [
        "predictions = []\n",
        "for i in df2.Predicted:\n",
        "  if i >= 0.5:\n",
        "    predictions.append(1)\n",
        "  else:\n",
        "    predictions.append(0)"
      ],
      "execution_count": 68,
      "outputs": []
    },
    {
      "cell_type": "code",
      "metadata": {
        "id": "fqv6dwebT5ht",
        "colab_type": "code",
        "colab": {
          "base_uri": "https://localhost:8080/",
          "height": 54
        },
        "outputId": "9271a377-f000-4463-a21c-220d12fa32ee"
      },
      "source": [
        "print(predictions)"
      ],
      "execution_count": 69,
      "outputs": [
        {
          "output_type": "stream",
          "text": [
            "[1, 1, 0, 0, 0, 1, 1, 1, 1, 1, 0, 1, 0, 1, 0, 0, 0, 1, 0, 1, 1, 1, 0, 0, 0, 1, 0, 0, 1, 1, 1, 1, 0, 0, 0, 1, 1, 0, 0, 1, 1, 0, 1, 0, 1, 1, 1, 1, 0, 0, 1, 0, 1, 0, 1, 1, 1, 0, 0, 0, 0, 0, 0, 1, 0, 0, 1, 0, 0, 0, 1, 0, 0, 0, 0, 0, 0, 1, 1, 0, 1, 0, 0, 1, 1, 0, 0, 0, 1, 1, 1, 0, 1, 0, 0, 1, 0, 0, 0, 1, 1, 0, 1, 0, 0, 1, 0, 1, 1, 1, 0, 1, 0, 0, 1, 0, 0, 0, 0, 1, 1, 0, 0, 1, 1, 1, 0, 1, 1, 0, 1, 0, 0, 0, 1, 0, 0, 0, 0, 1, 1, 1, 1, 0, 0, 1, 1, 1, 0, 1, 1, 1, 0, 1, 0, 0, 0, 1, 1, 1, 1, 1, 1, 1, 0, 1, 1, 0, 0, 0, 0, 1, 1, 0, 1, 0, 0, 1, 1, 0, 0, 0, 1, 0, 1, 0, 1, 0, 1, 1, 0, 1, 0, 1, 0, 1, 0, 1, 1, 0, 0, 1, 0, 0, 1, 0, 0, 1, 0, 1, 1, 1, 0, 1, 0, 1, 1, 0, 0, 0, 1, 0, 1, 1, 0, 0, 0, 1, 0, 0, 1, 0, 1, 1, 0, 1, 0, 0, 0, 0, 0, 0, 0, 1, 0, 0, 1, 1, 1, 1, 0, 1, 0, 1, 1, 1, 1, 1, 0, 0, 1, 1, 0, 0, 1, 0, 0, 0, 0, 1, 1, 0, 0, 0, 0]\n"
          ],
          "name": "stdout"
        }
      ]
    }
  ]
}
